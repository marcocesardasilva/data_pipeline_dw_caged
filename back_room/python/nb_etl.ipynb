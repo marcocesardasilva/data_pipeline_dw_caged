{
 "cells": [
  {
   "cell_type": "code",
<<<<<<< HEAD
   "execution_count": 4,
=======
   "execution_count": 11,
>>>>>>> 01ec300c7ad5bba62e077a7a284cc8511639a404
   "metadata": {},
   "outputs": [],
   "source": [
    "import os\n",
    "import pandas as pd"
   ]
  },
  {
   "cell_type": "code",
<<<<<<< HEAD
   "execution_count": 5,
=======
   "execution_count": 12,
>>>>>>> 01ec300c7ad5bba62e077a7a284cc8511639a404
   "metadata": {},
   "outputs": [],
   "source": [
    "# Define o caminho para a pasta \"dados\"\n",
    "folder_path = \"dados\""
   ]
  },
  {
   "cell_type": "code",
<<<<<<< HEAD
   "execution_count": 6,
   "metadata": {},
   "outputs": [
    {
     "name": "stdout",
     "output_type": "stream",
     "text": [
      "                 0        1   2           3        4          5   \n",
      "0  competÃªnciamov  regiÃ£o  uf  municÃ­pio  seÃ§Ã£o  subclasse  \\\n",
      "1  competÃªnciamov  regiÃ£o  uf  municÃ­pio  seÃ§Ã£o  subclasse   \n",
      "\n",
      "                     6                  7          8                  9  ...   \n",
      "0  saldomovimentaÃ§Ã£o  cbo2002ocupaÃ§Ã£o  categoria  graudeinstruÃ§Ã£o  ...  \\\n",
      "1  saldomovimentaÃ§Ã£o  cbo2002ocupaÃ§Ã£o  categoria  graudeinstruÃ§Ã£o  ...   \n",
      "\n",
      "  salÃ¡rio tamestabjan indicadoraprendiz origemdainformaÃ§Ã£o competÃªnciadec   \n",
      "0      NaN         NaN               NaN                  NaN             NaN  \\\n",
      "1      NaN         NaN               NaN                  NaN             NaN   \n",
      "\n",
      "  indicadordeforadoprazo unidadesalÃ¡riocÃ³digo valorsalÃ¡riofixo   \n",
      "0                    NaN                    NaN               NaN  \\\n",
      "1                    NaN                    NaN               NaN   \n",
      "\n",
      "  competênciaexc indicadordeexclusão  \n",
      "0            NaN                 NaN  \n",
      "1            NaN                 NaN  \n",
      "\n",
      "[2 rows x 59 columns]\n"
=======
   "execution_count": 14,
   "metadata": {},
   "outputs": [
    {
     "ename": "MemoryError",
     "evalue": "Unable to allocate 94.3 MiB for an array with shape (23, 537224) and data type int64",
     "output_type": "error",
     "traceback": [
      "\u001b[1;31m---------------------------------------------------------------------------\u001b[0m",
      "\u001b[1;31mMemoryError\u001b[0m                               Traceback (most recent call last)",
      "Cell \u001b[1;32mIn[14], line 5\u001b[0m\n\u001b[0;32m      2\u001b[0m \u001b[39mfor\u001b[39;00m filename \u001b[39min\u001b[39;00m os\u001b[39m.\u001b[39mlistdir(folder_path):\n\u001b[0;32m      3\u001b[0m     \u001b[39mif\u001b[39;00m filename\u001b[39m.\u001b[39mendswith(\u001b[39m'\u001b[39m\u001b[39m.txt\u001b[39m\u001b[39m'\u001b[39m):\n\u001b[0;32m      4\u001b[0m         \u001b[39m# lê o arquivo comoCSV com o pandas\u001b[39;00m\n\u001b[1;32m----> 5\u001b[0m         df \u001b[39m=\u001b[39m pd\u001b[39m.\u001b[39;49mread_csv(os\u001b[39m.\u001b[39;49mpath\u001b[39m.\u001b[39;49mjoin(folder_path, filename), delimiter\u001b[39m=\u001b[39;49m\u001b[39m'\u001b[39;49m\u001b[39m;\u001b[39;49m\u001b[39m'\u001b[39;49m)\n\u001b[0;32m      7\u001b[0m         \u001b[39m# Verificar se o arquivo possui a coluna 'competênciaexc'\u001b[39;00m\n\u001b[0;32m      8\u001b[0m         \u001b[39mif\u001b[39;00m \u001b[39m'\u001b[39m\u001b[39mcompetênciaexc\u001b[39m\u001b[39m'\u001b[39m \u001b[39mnot\u001b[39;00m \u001b[39min\u001b[39;00m df\u001b[39m.\u001b[39mcolumns:\n\u001b[0;32m      9\u001b[0m             \u001b[39m# Criar a coluna 'competênciaexc' com valor nulo\u001b[39;00m\n",
      "File \u001b[1;32mc:\\Users\\marco\\AppData\\Local\\Programs\\Python\\Python310\\lib\\site-packages\\pandas\\util\\_decorators.py:311\u001b[0m, in \u001b[0;36mdeprecate_nonkeyword_arguments.<locals>.decorate.<locals>.wrapper\u001b[1;34m(*args, **kwargs)\u001b[0m\n\u001b[0;32m    305\u001b[0m \u001b[39mif\u001b[39;00m \u001b[39mlen\u001b[39m(args) \u001b[39m>\u001b[39m num_allow_args:\n\u001b[0;32m    306\u001b[0m     warnings\u001b[39m.\u001b[39mwarn(\n\u001b[0;32m    307\u001b[0m         msg\u001b[39m.\u001b[39mformat(arguments\u001b[39m=\u001b[39marguments),\n\u001b[0;32m    308\u001b[0m         \u001b[39mFutureWarning\u001b[39;00m,\n\u001b[0;32m    309\u001b[0m         stacklevel\u001b[39m=\u001b[39mstacklevel,\n\u001b[0;32m    310\u001b[0m     )\n\u001b[1;32m--> 311\u001b[0m \u001b[39mreturn\u001b[39;00m func(\u001b[39m*\u001b[39margs, \u001b[39m*\u001b[39m\u001b[39m*\u001b[39mkwargs)\n",
      "File \u001b[1;32mc:\\Users\\marco\\AppData\\Local\\Programs\\Python\\Python310\\lib\\site-packages\\pandas\\io\\parsers\\readers.py:678\u001b[0m, in \u001b[0;36mread_csv\u001b[1;34m(filepath_or_buffer, sep, delimiter, header, names, index_col, usecols, squeeze, prefix, mangle_dupe_cols, dtype, engine, converters, true_values, false_values, skipinitialspace, skiprows, skipfooter, nrows, na_values, keep_default_na, na_filter, verbose, skip_blank_lines, parse_dates, infer_datetime_format, keep_date_col, date_parser, dayfirst, cache_dates, iterator, chunksize, compression, thousands, decimal, lineterminator, quotechar, quoting, doublequote, escapechar, comment, encoding, encoding_errors, dialect, error_bad_lines, warn_bad_lines, on_bad_lines, delim_whitespace, low_memory, memory_map, float_precision, storage_options)\u001b[0m\n\u001b[0;32m    663\u001b[0m kwds_defaults \u001b[39m=\u001b[39m _refine_defaults_read(\n\u001b[0;32m    664\u001b[0m     dialect,\n\u001b[0;32m    665\u001b[0m     delimiter,\n\u001b[1;32m   (...)\u001b[0m\n\u001b[0;32m    674\u001b[0m     defaults\u001b[39m=\u001b[39m{\u001b[39m\"\u001b[39m\u001b[39mdelimiter\u001b[39m\u001b[39m\"\u001b[39m: \u001b[39m\"\u001b[39m\u001b[39m,\u001b[39m\u001b[39m\"\u001b[39m},\n\u001b[0;32m    675\u001b[0m )\n\u001b[0;32m    676\u001b[0m kwds\u001b[39m.\u001b[39mupdate(kwds_defaults)\n\u001b[1;32m--> 678\u001b[0m \u001b[39mreturn\u001b[39;00m _read(filepath_or_buffer, kwds)\n",
      "File \u001b[1;32mc:\\Users\\marco\\AppData\\Local\\Programs\\Python\\Python310\\lib\\site-packages\\pandas\\io\\parsers\\readers.py:581\u001b[0m, in \u001b[0;36m_read\u001b[1;34m(filepath_or_buffer, kwds)\u001b[0m\n\u001b[0;32m    578\u001b[0m     \u001b[39mreturn\u001b[39;00m parser\n\u001b[0;32m    580\u001b[0m \u001b[39mwith\u001b[39;00m parser:\n\u001b[1;32m--> 581\u001b[0m     \u001b[39mreturn\u001b[39;00m parser\u001b[39m.\u001b[39;49mread(nrows)\n",
      "File \u001b[1;32mc:\\Users\\marco\\AppData\\Local\\Programs\\Python\\Python310\\lib\\site-packages\\pandas\\io\\parsers\\readers.py:1268\u001b[0m, in \u001b[0;36mTextFileReader.read\u001b[1;34m(self, nrows)\u001b[0m\n\u001b[0;32m   1265\u001b[0m     \u001b[39melse\u001b[39;00m:\n\u001b[0;32m   1266\u001b[0m         new_rows \u001b[39m=\u001b[39m \u001b[39mlen\u001b[39m(index)\n\u001b[1;32m-> 1268\u001b[0m     df \u001b[39m=\u001b[39m DataFrame(col_dict, columns\u001b[39m=\u001b[39;49mcolumns, index\u001b[39m=\u001b[39;49mindex)\n\u001b[0;32m   1270\u001b[0m     \u001b[39mself\u001b[39m\u001b[39m.\u001b[39m_currow \u001b[39m+\u001b[39m\u001b[39m=\u001b[39m new_rows\n\u001b[0;32m   1272\u001b[0m \u001b[39mif\u001b[39;00m \u001b[39mself\u001b[39m\u001b[39m.\u001b[39msqueeze \u001b[39mand\u001b[39;00m \u001b[39mlen\u001b[39m(df\u001b[39m.\u001b[39mcolumns) \u001b[39m==\u001b[39m \u001b[39m1\u001b[39m:\n",
      "File \u001b[1;32mc:\\Users\\marco\\AppData\\Local\\Programs\\Python\\Python310\\lib\\site-packages\\pandas\\core\\frame.py:636\u001b[0m, in \u001b[0;36mDataFrame.__init__\u001b[1;34m(self, data, index, columns, dtype, copy)\u001b[0m\n\u001b[0;32m    630\u001b[0m     mgr \u001b[39m=\u001b[39m \u001b[39mself\u001b[39m\u001b[39m.\u001b[39m_init_mgr(\n\u001b[0;32m    631\u001b[0m         data, axes\u001b[39m=\u001b[39m{\u001b[39m\"\u001b[39m\u001b[39mindex\u001b[39m\u001b[39m\"\u001b[39m: index, \u001b[39m\"\u001b[39m\u001b[39mcolumns\u001b[39m\u001b[39m\"\u001b[39m: columns}, dtype\u001b[39m=\u001b[39mdtype, copy\u001b[39m=\u001b[39mcopy\n\u001b[0;32m    632\u001b[0m     )\n\u001b[0;32m    634\u001b[0m \u001b[39melif\u001b[39;00m \u001b[39misinstance\u001b[39m(data, \u001b[39mdict\u001b[39m):\n\u001b[0;32m    635\u001b[0m     \u001b[39m# GH#38939 de facto copy defaults to False only in non-dict cases\u001b[39;00m\n\u001b[1;32m--> 636\u001b[0m     mgr \u001b[39m=\u001b[39m dict_to_mgr(data, index, columns, dtype\u001b[39m=\u001b[39;49mdtype, copy\u001b[39m=\u001b[39;49mcopy, typ\u001b[39m=\u001b[39;49mmanager)\n\u001b[0;32m    637\u001b[0m \u001b[39melif\u001b[39;00m \u001b[39misinstance\u001b[39m(data, ma\u001b[39m.\u001b[39mMaskedArray):\n\u001b[0;32m    638\u001b[0m     \u001b[39mimport\u001b[39;00m \u001b[39mnumpy\u001b[39;00m\u001b[39m.\u001b[39;00m\u001b[39mma\u001b[39;00m\u001b[39m.\u001b[39;00m\u001b[39mmrecords\u001b[39;00m \u001b[39mas\u001b[39;00m \u001b[39mmrecords\u001b[39;00m\n",
      "File \u001b[1;32mc:\\Users\\marco\\AppData\\Local\\Programs\\Python\\Python310\\lib\\site-packages\\pandas\\core\\internals\\construction.py:502\u001b[0m, in \u001b[0;36mdict_to_mgr\u001b[1;34m(data, index, columns, dtype, typ, copy)\u001b[0m\n\u001b[0;32m    494\u001b[0m     arrays \u001b[39m=\u001b[39m [\n\u001b[0;32m    495\u001b[0m         x\n\u001b[0;32m    496\u001b[0m         \u001b[39mif\u001b[39;00m \u001b[39mnot\u001b[39;00m \u001b[39mhasattr\u001b[39m(x, \u001b[39m\"\u001b[39m\u001b[39mdtype\u001b[39m\u001b[39m\"\u001b[39m) \u001b[39mor\u001b[39;00m \u001b[39mnot\u001b[39;00m \u001b[39misinstance\u001b[39m(x\u001b[39m.\u001b[39mdtype, ExtensionDtype)\n\u001b[0;32m    497\u001b[0m         \u001b[39melse\u001b[39;00m x\u001b[39m.\u001b[39mcopy()\n\u001b[0;32m    498\u001b[0m         \u001b[39mfor\u001b[39;00m x \u001b[39min\u001b[39;00m arrays\n\u001b[0;32m    499\u001b[0m     ]\n\u001b[0;32m    500\u001b[0m     \u001b[39m# TODO: can we get rid of the dt64tz special case above?\u001b[39;00m\n\u001b[1;32m--> 502\u001b[0m \u001b[39mreturn\u001b[39;00m arrays_to_mgr(arrays, columns, index, dtype\u001b[39m=\u001b[39;49mdtype, typ\u001b[39m=\u001b[39;49mtyp, consolidate\u001b[39m=\u001b[39;49mcopy)\n",
      "File \u001b[1;32mc:\\Users\\marco\\AppData\\Local\\Programs\\Python\\Python310\\lib\\site-packages\\pandas\\core\\internals\\construction.py:156\u001b[0m, in \u001b[0;36marrays_to_mgr\u001b[1;34m(arrays, columns, index, dtype, verify_integrity, typ, consolidate)\u001b[0m\n\u001b[0;32m    153\u001b[0m axes \u001b[39m=\u001b[39m [columns, index]\n\u001b[0;32m    155\u001b[0m \u001b[39mif\u001b[39;00m typ \u001b[39m==\u001b[39m \u001b[39m\"\u001b[39m\u001b[39mblock\u001b[39m\u001b[39m\"\u001b[39m:\n\u001b[1;32m--> 156\u001b[0m     \u001b[39mreturn\u001b[39;00m create_block_manager_from_column_arrays(\n\u001b[0;32m    157\u001b[0m         arrays, axes, consolidate\u001b[39m=\u001b[39;49mconsolidate\n\u001b[0;32m    158\u001b[0m     )\n\u001b[0;32m    159\u001b[0m \u001b[39melif\u001b[39;00m typ \u001b[39m==\u001b[39m \u001b[39m\"\u001b[39m\u001b[39marray\u001b[39m\u001b[39m\"\u001b[39m:\n\u001b[0;32m    160\u001b[0m     \u001b[39mreturn\u001b[39;00m ArrayManager(arrays, [index, columns])\n",
      "File \u001b[1;32mc:\\Users\\marco\\AppData\\Local\\Programs\\Python\\Python310\\lib\\site-packages\\pandas\\core\\internals\\managers.py:1973\u001b[0m, in \u001b[0;36mcreate_block_manager_from_column_arrays\u001b[1;34m(arrays, axes, consolidate)\u001b[0m\n\u001b[0;32m   1971\u001b[0m     \u001b[39mraise\u001b[39;00m construction_error(\u001b[39mlen\u001b[39m(arrays), arrays[\u001b[39m0\u001b[39m]\u001b[39m.\u001b[39mshape, axes, e)\n\u001b[0;32m   1972\u001b[0m \u001b[39mif\u001b[39;00m consolidate:\n\u001b[1;32m-> 1973\u001b[0m     mgr\u001b[39m.\u001b[39;49m_consolidate_inplace()\n\u001b[0;32m   1974\u001b[0m \u001b[39mreturn\u001b[39;00m mgr\n",
      "File \u001b[1;32mc:\\Users\\marco\\AppData\\Local\\Programs\\Python\\Python310\\lib\\site-packages\\pandas\\core\\internals\\managers.py:1699\u001b[0m, in \u001b[0;36mBlockManager._consolidate_inplace\u001b[1;34m(self)\u001b[0m\n\u001b[0;32m   1693\u001b[0m \u001b[39mdef\u001b[39;00m \u001b[39m_consolidate_inplace\u001b[39m(\u001b[39mself\u001b[39m) \u001b[39m-\u001b[39m\u001b[39m>\u001b[39m \u001b[39mNone\u001b[39;00m:\n\u001b[0;32m   1694\u001b[0m     \u001b[39m# In general, _consolidate_inplace should only be called via\u001b[39;00m\n\u001b[0;32m   1695\u001b[0m     \u001b[39m#  DataFrame._consolidate_inplace, otherwise we will fail to invalidate\u001b[39;00m\n\u001b[0;32m   1696\u001b[0m     \u001b[39m#  the DataFrame's _item_cache. The exception is for newly-created\u001b[39;00m\n\u001b[0;32m   1697\u001b[0m     \u001b[39m#  BlockManager objects not yet attached to a DataFrame.\u001b[39;00m\n\u001b[0;32m   1698\u001b[0m     \u001b[39mif\u001b[39;00m \u001b[39mnot\u001b[39;00m \u001b[39mself\u001b[39m\u001b[39m.\u001b[39mis_consolidated():\n\u001b[1;32m-> 1699\u001b[0m         \u001b[39mself\u001b[39m\u001b[39m.\u001b[39mblocks \u001b[39m=\u001b[39m \u001b[39mtuple\u001b[39m(_consolidate(\u001b[39mself\u001b[39;49m\u001b[39m.\u001b[39;49mblocks))\n\u001b[0;32m   1700\u001b[0m         \u001b[39mself\u001b[39m\u001b[39m.\u001b[39m_is_consolidated \u001b[39m=\u001b[39m \u001b[39mTrue\u001b[39;00m\n\u001b[0;32m   1701\u001b[0m         \u001b[39mself\u001b[39m\u001b[39m.\u001b[39m_known_consolidated \u001b[39m=\u001b[39m \u001b[39mTrue\u001b[39;00m\n",
      "File \u001b[1;32mc:\\Users\\marco\\AppData\\Local\\Programs\\Python\\Python310\\lib\\site-packages\\pandas\\core\\internals\\managers.py:2098\u001b[0m, in \u001b[0;36m_consolidate\u001b[1;34m(blocks)\u001b[0m\n\u001b[0;32m   2096\u001b[0m new_blocks: \u001b[39mlist\u001b[39m[Block] \u001b[39m=\u001b[39m []\n\u001b[0;32m   2097\u001b[0m \u001b[39mfor\u001b[39;00m (_can_consolidate, dtype), group_blocks \u001b[39min\u001b[39;00m grouper:\n\u001b[1;32m-> 2098\u001b[0m     merged_blocks \u001b[39m=\u001b[39m _merge_blocks(\n\u001b[0;32m   2099\u001b[0m         \u001b[39mlist\u001b[39;49m(group_blocks), dtype\u001b[39m=\u001b[39;49mdtype, can_consolidate\u001b[39m=\u001b[39;49m_can_consolidate\n\u001b[0;32m   2100\u001b[0m     )\n\u001b[0;32m   2101\u001b[0m     new_blocks \u001b[39m=\u001b[39m extend_blocks(merged_blocks, new_blocks)\n\u001b[0;32m   2102\u001b[0m \u001b[39mreturn\u001b[39;00m new_blocks\n",
      "File \u001b[1;32mc:\\Users\\marco\\AppData\\Local\\Programs\\Python\\Python310\\lib\\site-packages\\pandas\\core\\internals\\managers.py:2132\u001b[0m, in \u001b[0;36m_merge_blocks\u001b[1;34m(blocks, dtype, can_consolidate)\u001b[0m\n\u001b[0;32m   2129\u001b[0m     new_values \u001b[39m=\u001b[39m bvals2[\u001b[39m0\u001b[39m]\u001b[39m.\u001b[39m_concat_same_type(bvals2, axis\u001b[39m=\u001b[39m\u001b[39m0\u001b[39m)\n\u001b[0;32m   2131\u001b[0m argsort \u001b[39m=\u001b[39m np\u001b[39m.\u001b[39margsort(new_mgr_locs)\n\u001b[1;32m-> 2132\u001b[0m new_values \u001b[39m=\u001b[39m new_values[argsort]\n\u001b[0;32m   2133\u001b[0m new_mgr_locs \u001b[39m=\u001b[39m new_mgr_locs[argsort]\n\u001b[0;32m   2135\u001b[0m bp \u001b[39m=\u001b[39m BlockPlacement(new_mgr_locs)\n",
      "\u001b[1;31mMemoryError\u001b[0m: Unable to allocate 94.3 MiB for an array with shape (23, 537224) and data type int64"
>>>>>>> 01ec300c7ad5bba62e077a7a284cc8511639a404
     ]
    }
   ],
   "source": [
    "# Percorre todos os arquivos .txt na pasta\n",
    "for filename in os.listdir(folder_path):\n",
    "    if filename.endswith('.txt'):\n",
    "        # lê o arquivo comoCSV com o pandas\n",
    "        df = pd.read_csv(os.path.join(folder_path, filename), delimiter=';')\n",
    "\n",
    "        # Verificar se o arquivo possui a coluna 'competênciaexc'\n",
    "        if 'competênciaexc' not in df.columns:\n",
    "            # Criar a coluna 'competênciaexc' com valor nulo\n",
    "            df['competênciaexc'] = None\n",
    "\n",
    "        # Verificar se o arquivo possui a coluna 'indicadordeexclusão'\n",
    "        if 'indicadordeexclusão' not in df.columns:\n",
    "            # Criar a coluna 'indicadordeexclusão' com valor 0\n",
    "            df['indicadordeexclusão'] = 0"
   ]
  },
  {
   "cell_type": "code",
<<<<<<< HEAD
   "execution_count": 4,
   "metadata": {},
   "outputs": [],
   "source": [
    "# concatena os dataframes em um único dataframe final\n",
    "df_final = pd.concat(dfs, ignore_index=True)"
   ]
  },
  {
   "cell_type": "code",
   "execution_count": 7,
=======
   "execution_count": 10,
>>>>>>> 01ec300c7ad5bba62e077a7a284cc8511639a404
   "metadata": {},
   "outputs": [
    {
     "data": {
      "text/html": [
       "<div>\n",
       "<style scoped>\n",
       "    .dataframe tbody tr th:only-of-type {\n",
       "        vertical-align: middle;\n",
       "    }\n",
       "\n",
       "    .dataframe tbody tr th {\n",
       "        vertical-align: top;\n",
       "    }\n",
       "\n",
       "    .dataframe thead th {\n",
       "        text-align: right;\n",
       "    }\n",
       "</style>\n",
       "<table border=\"1\" class=\"dataframe\">\n",
       "  <thead>\n",
       "    <tr style=\"text-align: right;\">\n",
       "      <th></th>\n",
       "      <th>0</th>\n",
       "      <th>1</th>\n",
       "      <th>2</th>\n",
       "      <th>3</th>\n",
       "      <th>4</th>\n",
       "      <th>5</th>\n",
       "      <th>6</th>\n",
       "      <th>7</th>\n",
       "      <th>8</th>\n",
       "      <th>9</th>\n",
       "      <th>...</th>\n",
       "      <th>salÃ¡rio</th>\n",
       "      <th>tamestabjan</th>\n",
       "      <th>indicadoraprendiz</th>\n",
<<<<<<< HEAD
       "      <th>origemdainformaÃ§Ã£o</th>\n",
       "      <th>competÃªnciadec</th>\n",
       "      <th>indicadordeforadoprazo</th>\n",
       "      <th>unidadesalÃ¡riocÃ³digo</th>\n",
       "      <th>valorsalÃ¡riofixo</th>\n",
=======
       "      <th>origemdainformação</th>\n",
       "      <th>competênciadec</th>\n",
       "      <th>indicadordeforadoprazo</th>\n",
       "      <th>unidadesaláriocódigo</th>\n",
       "      <th>valorsaláriofixo</th>\n",
>>>>>>> 01ec300c7ad5bba62e077a7a284cc8511639a404
       "      <th>competênciaexc</th>\n",
       "      <th>indicadordeexclusão</th>\n",
       "    </tr>\n",
       "  </thead>\n",
       "  <tbody>\n",
       "    <tr>\n",
       "      <th>0</th>\n",
<<<<<<< HEAD
       "      <td>competÃªnciamov</td>\n",
       "      <td>regiÃ£o</td>\n",
       "      <td>uf</td>\n",
       "      <td>municÃ­pio</td>\n",
       "      <td>seÃ§Ã£o</td>\n",
       "      <td>subclasse</td>\n",
       "      <td>saldomovimentaÃ§Ã£o</td>\n",
       "      <td>cbo2002ocupaÃ§Ã£o</td>\n",
       "      <td>categoria</td>\n",
       "      <td>graudeinstruÃ§Ã£o</td>\n",
       "      <td>...</td>\n",
       "      <td>NaN</td>\n",
       "      <td>NaN</td>\n",
       "      <td>NaN</td>\n",
       "      <td>NaN</td>\n",
       "      <td>NaN</td>\n",
       "      <td>NaN</td>\n",
       "      <td>NaN</td>\n",
       "      <td>NaN</td>\n",
       "      <td>NaN</td>\n",
=======
       "      <td>202001</td>\n",
       "      <td>3</td>\n",
       "      <td>35</td>\n",
       "      <td>351060</td>\n",
       "      <td>J</td>\n",
       "      <td>5914600</td>\n",
       "      <td>-1</td>\n",
       "      <td>514325</td>\n",
       "      <td>101</td>\n",
       "      <td>7</td>\n",
       "      <td>...</td>\n",
       "      <td>1337,92</td>\n",
       "      <td>5</td>\n",
       "      <td>0</td>\n",
       "      <td>1</td>\n",
       "      <td>202002</td>\n",
       "      <td>1</td>\n",
       "      <td>5</td>\n",
       "      <td>1337,92</td>\n",
       "      <td>None</td>\n",
       "      <td>0</td>\n",
       "    </tr>\n",
       "    <tr>\n",
       "      <th>1</th>\n",
       "      <td>202001</td>\n",
       "      <td>3</td>\n",
       "      <td>32</td>\n",
       "      <td>320500</td>\n",
       "      <td>G</td>\n",
       "      <td>4782201</td>\n",
       "      <td>-1</td>\n",
       "      <td>521110</td>\n",
       "      <td>999</td>\n",
       "      <td>7</td>\n",
       "      <td>...</td>\n",
       "      <td>,00</td>\n",
       "      <td>2</td>\n",
       "      <td>0</td>\n",
       "      <td>2</td>\n",
       "      <td>202002</td>\n",
       "      <td>1</td>\n",
       "      <td>99</td>\n",
       "      <td>NaN</td>\n",
       "      <td>None</td>\n",
       "      <td>0</td>\n",
       "    </tr>\n",
       "    <tr>\n",
       "      <th>2</th>\n",
       "      <td>202001</td>\n",
       "      <td>2</td>\n",
       "      <td>27</td>\n",
       "      <td>270470</td>\n",
       "      <td>I</td>\n",
       "      <td>5611203</td>\n",
       "      <td>-1</td>\n",
       "      <td>513435</td>\n",
       "      <td>999</td>\n",
       "      <td>7</td>\n",
       "      <td>...</td>\n",
       "      <td>,00</td>\n",
       "      <td>2</td>\n",
       "      <td>0</td>\n",
       "      <td>2</td>\n",
       "      <td>202002</td>\n",
       "      <td>1</td>\n",
       "      <td>99</td>\n",
>>>>>>> 01ec300c7ad5bba62e077a7a284cc8511639a404
       "      <td>NaN</td>\n",
       "      <td>None</td>\n",
       "      <td>0</td>\n",
       "    </tr>\n",
       "    <tr>\n",
<<<<<<< HEAD
       "      <th>1</th>\n",
       "      <td>competÃªnciamov</td>\n",
       "      <td>regiÃ£o</td>\n",
       "      <td>uf</td>\n",
       "      <td>municÃ­pio</td>\n",
       "      <td>seÃ§Ã£o</td>\n",
       "      <td>subclasse</td>\n",
       "      <td>saldomovimentaÃ§Ã£o</td>\n",
       "      <td>cbo2002ocupaÃ§Ã£o</td>\n",
       "      <td>categoria</td>\n",
       "      <td>graudeinstruÃ§Ã£o</td>\n",
       "      <td>...</td>\n",
       "      <td>NaN</td>\n",
       "      <td>NaN</td>\n",
       "      <td>NaN</td>\n",
       "      <td>NaN</td>\n",
       "      <td>NaN</td>\n",
       "      <td>NaN</td>\n",
       "      <td>NaN</td>\n",
       "      <td>NaN</td>\n",
       "      <td>NaN</td>\n",
       "      <td>NaN</td>\n",
=======
       "      <th>3</th>\n",
       "      <td>202001</td>\n",
       "      <td>4</td>\n",
       "      <td>43</td>\n",
       "      <td>431490</td>\n",
       "      <td>Q</td>\n",
       "      <td>8640202</td>\n",
       "      <td>-1</td>\n",
       "      <td>411005</td>\n",
       "      <td>101</td>\n",
       "      <td>9</td>\n",
       "      <td>...</td>\n",
       "      <td>1356,52</td>\n",
       "      <td>6</td>\n",
       "      <td>0</td>\n",
       "      <td>1</td>\n",
       "      <td>202002</td>\n",
       "      <td>1</td>\n",
       "      <td>5</td>\n",
       "      <td>1356,52</td>\n",
       "      <td>None</td>\n",
       "      <td>0</td>\n",
       "    </tr>\n",
       "    <tr>\n",
       "      <th>4</th>\n",
       "      <td>202001</td>\n",
       "      <td>3</td>\n",
       "      <td>35</td>\n",
       "      <td>350600</td>\n",
       "      <td>H</td>\n",
       "      <td>4930202</td>\n",
       "      <td>1</td>\n",
       "      <td>414215</td>\n",
       "      <td>999</td>\n",
       "      <td>6</td>\n",
       "      <td>...</td>\n",
       "      <td>,00</td>\n",
       "      <td>4</td>\n",
       "      <td>0</td>\n",
       "      <td>2</td>\n",
       "      <td>202002</td>\n",
       "      <td>1</td>\n",
       "      <td>99</td>\n",
       "      <td>NaN</td>\n",
       "      <td>None</td>\n",
       "      <td>0</td>\n",
>>>>>>> 01ec300c7ad5bba62e077a7a284cc8511639a404
       "    </tr>\n",
       "  </tbody>\n",
       "</table>\n",
       "<p>2 rows × 59 columns</p>\n",
       "</div>"
      ],
      "text/plain": [
<<<<<<< HEAD
       "                 0        1   2           3        4          5   \n",
       "0  competÃªnciamov  regiÃ£o  uf  municÃ­pio  seÃ§Ã£o  subclasse  \\\n",
       "1  competÃªnciamov  regiÃ£o  uf  municÃ­pio  seÃ§Ã£o  subclasse   \n",
       "\n",
       "                     6                  7          8                  9  ...   \n",
       "0  saldomovimentaÃ§Ã£o  cbo2002ocupaÃ§Ã£o  categoria  graudeinstruÃ§Ã£o  ...  \\\n",
       "1  saldomovimentaÃ§Ã£o  cbo2002ocupaÃ§Ã£o  categoria  graudeinstruÃ§Ã£o  ...   \n",
       "\n",
       "  salÃ¡rio tamestabjan indicadoraprendiz origemdainformaÃ§Ã£o competÃªnciadec   \n",
       "0      NaN         NaN               NaN                  NaN             NaN  \\\n",
       "1      NaN         NaN               NaN                  NaN             NaN   \n",
       "\n",
       "  indicadordeforadoprazo unidadesalÃ¡riocÃ³digo valorsalÃ¡riofixo   \n",
       "0                    NaN                    NaN               NaN  \\\n",
       "1                    NaN                    NaN               NaN   \n",
       "\n",
       "  competênciaexc indicadordeexclusão  \n",
       "0            NaN                 NaN  \n",
       "1            NaN                 NaN  \n",
=======
       "   competênciamov  região  uf  município seção  subclasse  saldomovimentação  \\\n",
       "0          202001       3  35     351060     J    5914600                 -1   \n",
       "1          202001       3  32     320500     G    4782201                 -1   \n",
       "2          202001       2  27     270470     I    5611203                 -1   \n",
       "3          202001       4  43     431490     Q    8640202                 -1   \n",
       "4          202001       3  35     350600     H    4930202                  1   \n",
       "\n",
       "   cbo2002ocupação  categoria  graudeinstrução  ...  salário tamestabjan  \\\n",
       "0           514325        101                7  ...  1337,92           5   \n",
       "1           521110        999                7  ...      ,00           2   \n",
       "2           513435        999                7  ...      ,00           2   \n",
       "3           411005        101                9  ...  1356,52           6   \n",
       "4           414215        999                6  ...      ,00           4   \n",
       "\n",
       "   indicadoraprendiz  origemdainformação  competênciadec  \\\n",
       "0                  0                   1          202002   \n",
       "1                  0                   2          202002   \n",
       "2                  0                   2          202002   \n",
       "3                  0                   1          202002   \n",
       "4                  0                   2          202002   \n",
       "\n",
       "   indicadordeforadoprazo  unidadesaláriocódigo  valorsaláriofixo  \\\n",
       "0                       1                     5           1337,92   \n",
       "1                       1                    99               NaN   \n",
       "2                       1                    99               NaN   \n",
       "3                       1                     5           1356,52   \n",
       "4                       1                    99               NaN   \n",
       "\n",
       "   competênciaexc  indicadordeexclusão  \n",
       "0            None                    0  \n",
       "1            None                    0  \n",
       "2            None                    0  \n",
       "3            None                    0  \n",
       "4            None                    0  \n",
>>>>>>> 01ec300c7ad5bba62e077a7a284cc8511639a404
       "\n",
       "[2 rows x 59 columns]"
      ]
     },
<<<<<<< HEAD
     "execution_count": 7,
=======
     "execution_count": 10,
>>>>>>> 01ec300c7ad5bba62e077a7a284cc8511639a404
     "metadata": {},
     "output_type": "execute_result"
    }
   ],
   "source": [
    "# exibe o dataframe final\n",
<<<<<<< HEAD
    "consolidated_dataset.head()"
=======
    "df_group.head()"
>>>>>>> 01ec300c7ad5bba62e077a7a284cc8511639a404
   ]
  },
  {
   "cell_type": "code",
   "execution_count": 9,
   "metadata": {},
   "outputs": [
    {
     "data": {
      "text/plain": [
       "(2857125, 30)"
      ]
     },
     "execution_count": 9,
     "metadata": {},
     "output_type": "execute_result"
    }
   ],
   "source": [
    "df_group.shape"
   ]
  },
  {
   "cell_type": "code",
   "execution_count": 4,
   "metadata": {},
   "outputs": [],
   "source": [
    "# concatena os dataframes em um único dataframe final\n",
    "df_final = pd.concat(dfs, ignore_index=True)\n",
    "\n",
    "# Incluir sks\n",
    "df_final['sk_indicador'] = df_final['Indicador'].map(df_final['Indicador'].drop_duplicates().reset_index(drop=True).reset_index().set_index('Indicador')['index'] + 1)\n",
    "df_final['sk_equipe'] = pd.factorize(df_final['Equipe'])[0] + 1\n",
    "df_final['sk_localidade'] = df_final['IBGE'].astype(int)\n",
    "df_final[\"sk_periodo\"] = df_final[\"Ano\"]+df_final[\"Quadrimestre\"]\n"
   ]
  },
  {
   "cell_type": "code",
   "execution_count": 1,
   "metadata": {},
   "outputs": [
    {
     "ename": "NameError",
     "evalue": "name 'df_final' is not defined",
     "output_type": "error",
     "traceback": [
      "\u001b[1;31m---------------------------------------------------------------------------\u001b[0m",
      "\u001b[1;31mNameError\u001b[0m                                 Traceback (most recent call last)",
      "Cell \u001b[1;32mIn[1], line 2\u001b[0m\n\u001b[0;32m      1\u001b[0m \u001b[39m# exibe o dataframe final\u001b[39;00m\n\u001b[1;32m----> 2\u001b[0m df_final\u001b[39m.\u001b[39mhead()\n",
      "\u001b[1;31mNameError\u001b[0m: name 'df_final' is not defined"
     ]
    }
   ],
   "source": [
    "# exibe o dataframe final\n",
    "df_final.head()"
   ]
  },
  {
   "cell_type": "code",
   "execution_count": 6,
   "metadata": {},
   "outputs": [
    {
     "data": {
      "text/plain": [
       "Index(['UF', 'IBGE', 'Munícipio', 'Numerador', 'Denominador Utilizado',\n",
       "       'Percentual Quadrimestre', 'Denominador Identificado',\n",
       "       'Denominador Estimado', 'Cadastro', 'Base Externa', 'Percentual',\n",
       "       'População', 'Indicador', 'Equipe', 'Ano', 'Quadrimestre',\n",
       "       'sk_indicador', 'sk_equipe', 'sk_localidade', 'sk_periodo'],\n",
       "      dtype='object')"
      ]
     },
     "execution_count": 6,
     "metadata": {},
     "output_type": "execute_result"
    }
   ],
   "source": [
    "df_final.columns"
   ]
  },
  {
   "cell_type": "code",
   "execution_count": 7,
   "metadata": {},
   "outputs": [
    {
     "name": "stdout",
     "output_type": "stream",
     "text": [
      "<class 'pandas.core.frame.DataFrame'>\n",
      "RangeIndex: 233478 entries, 0 to 233477\n",
      "Data columns (total 20 columns):\n",
      " #   Column                    Non-Null Count   Dtype  \n",
      "---  ------                    --------------   -----  \n",
      " 0   UF                        233478 non-null  object \n",
      " 1   IBGE                      233478 non-null  float64\n",
      " 2   Munícipio                 233478 non-null  object \n",
      " 3   Numerador                 233478 non-null  float64\n",
      " 4   Denominador Utilizado     233478 non-null  float64\n",
      " 5   Percentual Quadrimestre   233478 non-null  float64\n",
      " 6   Denominador Identificado  233478 non-null  float64\n",
      " 7   Denominador Estimado      233478 non-null  float64\n",
      " 8   Cadastro                  233478 non-null  float64\n",
      " 9   Base Externa              233478 non-null  float64\n",
      " 10  Percentual                233478 non-null  float64\n",
      " 11  População                 233478 non-null  float64\n",
      " 12  Indicador                 233478 non-null  object \n",
      " 13  Equipe                    233478 non-null  object \n",
      " 14  Ano                       233478 non-null  object \n",
      " 15  Quadrimestre              233478 non-null  object \n",
      " 16  sk_indicador              233478 non-null  int64  \n",
      " 17  sk_equipe                 233478 non-null  int64  \n",
      " 18  sk_localidade             233478 non-null  int32  \n",
      " 19  sk_periodo                233478 non-null  object \n",
      "dtypes: float64(10), int32(1), int64(2), object(7)\n",
      "memory usage: 34.7+ MB\n"
     ]
    }
   ],
   "source": [
    "df_final.info()"
   ]
  },
  {
   "cell_type": "code",
   "execution_count": 312,
   "metadata": {},
   "outputs": [
    {
     "data": {
      "text/plain": [
       "(233478, 20)"
      ]
     },
     "execution_count": 312,
     "metadata": {},
     "output_type": "execute_result"
    }
   ],
   "source": [
    "df_final.shape"
   ]
  },
  {
   "cell_type": "code",
   "execution_count": 313,
   "metadata": {},
   "outputs": [
    {
     "name": "stdout",
     "output_type": "stream",
     "text": [
      "O dataset possui 233478 registros e 20 atributos.\n"
     ]
    }
   ],
   "source": [
    "print('O dataset possui',df_final.shape[0], 'registros e', df_final.shape[1], 'atributos.')"
   ]
  },
  {
   "cell_type": "code",
   "execution_count": 314,
   "metadata": {},
   "outputs": [
    {
     "data": {
      "text/html": [
       "<div>\n",
       "<style scoped>\n",
       "    .dataframe tbody tr th:only-of-type {\n",
       "        vertical-align: middle;\n",
       "    }\n",
       "\n",
       "    .dataframe tbody tr th {\n",
       "        vertical-align: top;\n",
       "    }\n",
       "\n",
       "    .dataframe thead th {\n",
       "        text-align: right;\n",
       "    }\n",
       "</style>\n",
       "<table border=\"1\" class=\"dataframe\">\n",
       "  <thead>\n",
       "    <tr style=\"text-align: right;\">\n",
       "      <th></th>\n",
       "      <th>IBGE</th>\n",
       "      <th>Numerador</th>\n",
       "      <th>Denominador Utilizado</th>\n",
       "      <th>Percentual Quadrimestre</th>\n",
       "      <th>Denominador Identificado</th>\n",
       "      <th>Denominador Estimado</th>\n",
       "      <th>Cadastro</th>\n",
       "      <th>Base Externa</th>\n",
       "      <th>Percentual</th>\n",
       "      <th>População</th>\n",
       "      <th>sk_indicador</th>\n",
       "      <th>sk_equipe</th>\n",
       "      <th>sk_localidade</th>\n",
       "    </tr>\n",
       "  </thead>\n",
       "  <tbody>\n",
       "    <tr>\n",
       "      <th>count</th>\n",
       "      <td>233478.000000</td>\n",
       "      <td>233478.000000</td>\n",
       "      <td>2.334780e+05</td>\n",
       "      <td>233478.00000</td>\n",
       "      <td>2.334780e+05</td>\n",
       "      <td>2.334780e+05</td>\n",
       "      <td>2.334780e+05</td>\n",
       "      <td>2.334780e+05</td>\n",
       "      <td>233478.000000</td>\n",
       "      <td>2.334780e+05</td>\n",
       "      <td>233478.000000</td>\n",
       "      <td>233478.000000</td>\n",
       "      <td>233478.000000</td>\n",
       "    </tr>\n",
       "    <tr>\n",
       "      <th>mean</th>\n",
       "      <td>325320.624114</td>\n",
       "      <td>557.279825</td>\n",
       "      <td>2.617825e+03</td>\n",
       "      <td>46.03707</td>\n",
       "      <td>2.468784e+03</td>\n",
       "      <td>2.478791e+03</td>\n",
       "      <td>2.899539e+04</td>\n",
       "      <td>1.592412e+03</td>\n",
       "      <td>114.299848</td>\n",
       "      <td>3.819937e+04</td>\n",
       "      <td>4.000000</td>\n",
       "      <td>1.500300</td>\n",
       "      <td>325320.624114</td>\n",
       "    </tr>\n",
       "    <tr>\n",
       "      <th>std</th>\n",
       "      <td>98499.244940</td>\n",
       "      <td>3055.431834</td>\n",
       "      <td>2.063719e+04</td>\n",
       "      <td>28.61720</td>\n",
       "      <td>1.919624e+04</td>\n",
       "      <td>1.924772e+04</td>\n",
       "      <td>1.305334e+05</td>\n",
       "      <td>2.488236e+04</td>\n",
       "      <td>59.088050</td>\n",
       "      <td>2.239665e+05</td>\n",
       "      <td>2.000004</td>\n",
       "      <td>0.500001</td>\n",
       "      <td>98499.244940</td>\n",
       "    </tr>\n",
       "    <tr>\n",
       "      <th>min</th>\n",
       "      <td>110001.000000</td>\n",
       "      <td>0.000000</td>\n",
       "      <td>0.000000e+00</td>\n",
       "      <td>0.00000</td>\n",
       "      <td>0.000000e+00</td>\n",
       "      <td>0.000000e+00</td>\n",
       "      <td>0.000000e+00</td>\n",
       "      <td>0.000000e+00</td>\n",
       "      <td>0.000000</td>\n",
       "      <td>2.100000e+01</td>\n",
       "      <td>1.000000</td>\n",
       "      <td>1.000000</td>\n",
       "      <td>110001.000000</td>\n",
       "    </tr>\n",
       "    <tr>\n",
       "      <th>25%</th>\n",
       "      <td>251207.000000</td>\n",
       "      <td>19.000000</td>\n",
       "      <td>3.500000e+01</td>\n",
       "      <td>21.00000</td>\n",
       "      <td>3.300000e+01</td>\n",
       "      <td>2.900000e+01</td>\n",
       "      <td>5.744000e+03</td>\n",
       "      <td>1.100000e+01</td>\n",
       "      <td>90.000000</td>\n",
       "      <td>5.452000e+03</td>\n",
       "      <td>2.000000</td>\n",
       "      <td>1.000000</td>\n",
       "      <td>251207.000000</td>\n",
       "    </tr>\n",
       "    <tr>\n",
       "      <th>50%</th>\n",
       "      <td>314600.000000</td>\n",
       "      <td>71.000000</td>\n",
       "      <td>1.760000e+02</td>\n",
       "      <td>43.00000</td>\n",
       "      <td>1.610000e+02</td>\n",
       "      <td>1.660000e+02</td>\n",
       "      <td>1.121800e+04</td>\n",
       "      <td>2.700000e+01</td>\n",
       "      <td>104.000000</td>\n",
       "      <td>1.169000e+04</td>\n",
       "      <td>4.000000</td>\n",
       "      <td>2.000000</td>\n",
       "      <td>314600.000000</td>\n",
       "    </tr>\n",
       "    <tr>\n",
       "      <th>75%</th>\n",
       "      <td>411920.000000</td>\n",
       "      <td>400.000000</td>\n",
       "      <td>1.665000e+03</td>\n",
       "      <td>71.00000</td>\n",
       "      <td>1.607000e+03</td>\n",
       "      <td>1.543000e+03</td>\n",
       "      <td>2.310400e+04</td>\n",
       "      <td>1.340000e+02</td>\n",
       "      <td>126.000000</td>\n",
       "      <td>2.571900e+04</td>\n",
       "      <td>6.000000</td>\n",
       "      <td>2.000000</td>\n",
       "      <td>411920.000000</td>\n",
       "    </tr>\n",
       "    <tr>\n",
       "      <th>max</th>\n",
       "      <td>530010.000000</td>\n",
       "      <td>283703.000000</td>\n",
       "      <td>1.928165e+06</td>\n",
       "      <td>100.00000</td>\n",
       "      <td>1.928165e+06</td>\n",
       "      <td>1.704243e+06</td>\n",
       "      <td>5.893815e+06</td>\n",
       "      <td>3.584509e+06</td>\n",
       "      <td>2900.000000</td>\n",
       "      <td>1.239637e+07</td>\n",
       "      <td>7.000000</td>\n",
       "      <td>2.000000</td>\n",
       "      <td>530010.000000</td>\n",
       "    </tr>\n",
       "  </tbody>\n",
       "</table>\n",
       "</div>"
      ],
      "text/plain": [
       "                IBGE      Numerador  Denominador Utilizado  \\\n",
       "count  233478.000000  233478.000000           2.334780e+05   \n",
       "mean   325320.624114     557.279825           2.617825e+03   \n",
       "std     98499.244940    3055.431834           2.063719e+04   \n",
       "min    110001.000000       0.000000           0.000000e+00   \n",
       "25%    251207.000000      19.000000           3.500000e+01   \n",
       "50%    314600.000000      71.000000           1.760000e+02   \n",
       "75%    411920.000000     400.000000           1.665000e+03   \n",
       "max    530010.000000  283703.000000           1.928165e+06   \n",
       "\n",
       "       Percentual Quadrimestre  Denominador Identificado  \\\n",
       "count             233478.00000              2.334780e+05   \n",
       "mean                  46.03707              2.468784e+03   \n",
       "std                   28.61720              1.919624e+04   \n",
       "min                    0.00000              0.000000e+00   \n",
       "25%                   21.00000              3.300000e+01   \n",
       "50%                   43.00000              1.610000e+02   \n",
       "75%                   71.00000              1.607000e+03   \n",
       "max                  100.00000              1.928165e+06   \n",
       "\n",
       "       Denominador Estimado      Cadastro  Base Externa     Percentual  \\\n",
       "count          2.334780e+05  2.334780e+05  2.334780e+05  233478.000000   \n",
       "mean           2.478791e+03  2.899539e+04  1.592412e+03     114.299848   \n",
       "std            1.924772e+04  1.305334e+05  2.488236e+04      59.088050   \n",
       "min            0.000000e+00  0.000000e+00  0.000000e+00       0.000000   \n",
       "25%            2.900000e+01  5.744000e+03  1.100000e+01      90.000000   \n",
       "50%            1.660000e+02  1.121800e+04  2.700000e+01     104.000000   \n",
       "75%            1.543000e+03  2.310400e+04  1.340000e+02     126.000000   \n",
       "max            1.704243e+06  5.893815e+06  3.584509e+06    2900.000000   \n",
       "\n",
       "          População   sk_indicador      sk_equipe  sk_localidade  \n",
       "count  2.334780e+05  233478.000000  233478.000000  233478.000000  \n",
       "mean   3.819937e+04       4.000000       1.500300  325320.624114  \n",
       "std    2.239665e+05       2.000004       0.500001   98499.244940  \n",
       "min    2.100000e+01       1.000000       1.000000  110001.000000  \n",
       "25%    5.452000e+03       2.000000       1.000000  251207.000000  \n",
       "50%    1.169000e+04       4.000000       2.000000  314600.000000  \n",
       "75%    2.571900e+04       6.000000       2.000000  411920.000000  \n",
       "max    1.239637e+07       7.000000       2.000000  530010.000000  "
      ]
     },
     "execution_count": 314,
     "metadata": {},
     "output_type": "execute_result"
    }
   ],
   "source": [
    "df_final.describe()"
   ]
  },
  {
   "cell_type": "code",
   "execution_count": 315,
   "metadata": {},
   "outputs": [
    {
     "data": {
      "text/plain": [
       "UF                          0\n",
       "IBGE                        0\n",
       "Munícipio                   0\n",
       "Numerador                   0\n",
       "Denominador Utilizado       0\n",
       "Percentual Quadrimestre     0\n",
       "Denominador Identificado    0\n",
       "Denominador Estimado        0\n",
       "Cadastro                    0\n",
       "Base Externa                0\n",
       "Percentual                  0\n",
       "População                   0\n",
       "Indicador                   0\n",
       "Equipe                      0\n",
       "Ano                         0\n",
       "Quadrimestre                0\n",
       "sk_indicador                0\n",
       "sk_equipe                   0\n",
       "sk_localidade               0\n",
       "sk_periodo                  0\n",
       "dtype: int64"
      ]
     },
     "execution_count": 315,
     "metadata": {},
     "output_type": "execute_result"
    }
   ],
   "source": [
    "df_final.isna().sum()"
   ]
  },
  {
   "cell_type": "code",
   "execution_count": 316,
   "metadata": {},
   "outputs": [],
   "source": [
    "df_indicador = None\n",
    "df_equipe = None\n",
    "df_periodo = None\n",
    "df_localidade = None\n",
    "fato_sisab = None"
   ]
  },
  {
   "attachments": {},
   "cell_type": "markdown",
   "metadata": {},
   "source": [
    "DF_INDICADOR"
   ]
  },
  {
   "cell_type": "code",
   "execution_count": 317,
   "metadata": {},
   "outputs": [],
   "source": [
    "# mapeamento dos valores de de_indicador para nm_indicador\n",
    "map_indicador = {'Proporção de crianças de 1 (um) ano de idade vacinadas na APS contra Difteria, Tétano, Coqueluche, Hepatite B, infecções causadas por haemophilus influenzae tipo b e Poliomielite inativada': 'criancas_vacinadas',\n",
    "                 'Proporção de gestantes com pelo menos 6 (seis) consultas pré-natal realizadas, sendo a 1ª (primeira) até a 12ª (décima segunda) semana de gestação': 'gestantes_pre_natal',\n",
    "                 'Proporção de gestantes com atendimento odontológico realizado': 'gestantes_odontologico',\n",
    "                 'Proporção de gestantes com realização de exames para sífilis e HIV': 'gestantes_exames_dsts',\n",
    "                 'Proporção de mulheres com coleta de citopatológico na APS': 'mulheres_citopatologico',\n",
    "                 'Proporção de pessoas com diabetes, com consulta e hemoglobina glicada solicitada no semestre': 'pessoas_diabetes',\n",
    "                 'Proporção de pessoas com hipertensão, com consulta e pressão arterial aferida no semestre': 'pessoas_hipertensao'}"
   ]
  },
  {
   "cell_type": "code",
   "execution_count": 318,
   "metadata": {},
   "outputs": [],
   "source": [
    "df_indicador =  df_final[['sk_indicador','Indicador']].drop_duplicates().reset_index(drop=True)\n",
    "df_indicador = df_indicador.rename(columns={'Indicador': 'de_indicador'})\n",
    "df_indicador['nm_indicador'] = df_indicador['de_indicador'].apply(lambda x: map_indicador[x])\n",
    "df_indicador = df_indicador.reindex(columns=['sk_indicador', 'nm_indicador', 'de_indicador'])"
   ]
  },
  {
   "cell_type": "code",
   "execution_count": 319,
   "metadata": {},
   "outputs": [
    {
     "data": {
      "text/html": [
       "<div>\n",
       "<style scoped>\n",
       "    .dataframe tbody tr th:only-of-type {\n",
       "        vertical-align: middle;\n",
       "    }\n",
       "\n",
       "    .dataframe tbody tr th {\n",
       "        vertical-align: top;\n",
       "    }\n",
       "\n",
       "    .dataframe thead th {\n",
       "        text-align: right;\n",
       "    }\n",
       "</style>\n",
       "<table border=\"1\" class=\"dataframe\">\n",
       "  <thead>\n",
       "    <tr style=\"text-align: right;\">\n",
       "      <th></th>\n",
       "      <th>sk_indicador</th>\n",
       "      <th>nm_indicador</th>\n",
       "      <th>de_indicador</th>\n",
       "    </tr>\n",
       "  </thead>\n",
       "  <tbody>\n",
       "    <tr>\n",
       "      <th>0</th>\n",
       "      <td>1</td>\n",
       "      <td>criancas_vacinadas</td>\n",
       "      <td>Proporção de crianças de 1 (um) ano de idade v...</td>\n",
       "    </tr>\n",
       "    <tr>\n",
       "      <th>1</th>\n",
       "      <td>2</td>\n",
       "      <td>gestantes_pre_natal</td>\n",
       "      <td>Proporção de gestantes com pelo menos 6 (seis)...</td>\n",
       "    </tr>\n",
       "    <tr>\n",
       "      <th>2</th>\n",
       "      <td>3</td>\n",
       "      <td>gestantes_odontologico</td>\n",
       "      <td>Proporção de gestantes com atendimento odontol...</td>\n",
       "    </tr>\n",
       "    <tr>\n",
       "      <th>3</th>\n",
       "      <td>4</td>\n",
       "      <td>gestantes_exames_dsts</td>\n",
       "      <td>Proporção de gestantes com realização de exame...</td>\n",
       "    </tr>\n",
       "    <tr>\n",
       "      <th>4</th>\n",
       "      <td>5</td>\n",
       "      <td>mulheres_citopatologico</td>\n",
       "      <td>Proporção de mulheres com coleta de citopatoló...</td>\n",
       "    </tr>\n",
       "  </tbody>\n",
       "</table>\n",
       "</div>"
      ],
      "text/plain": [
       "   sk_indicador             nm_indicador  \\\n",
       "0             1       criancas_vacinadas   \n",
       "1             2      gestantes_pre_natal   \n",
       "2             3   gestantes_odontologico   \n",
       "3             4    gestantes_exames_dsts   \n",
       "4             5  mulheres_citopatologico   \n",
       "\n",
       "                                        de_indicador  \n",
       "0  Proporção de crianças de 1 (um) ano de idade v...  \n",
       "1  Proporção de gestantes com pelo menos 6 (seis)...  \n",
       "2  Proporção de gestantes com atendimento odontol...  \n",
       "3  Proporção de gestantes com realização de exame...  \n",
       "4  Proporção de mulheres com coleta de citopatoló...  "
      ]
     },
     "execution_count": 319,
     "metadata": {},
     "output_type": "execute_result"
    }
   ],
   "source": [
    "df_indicador.head()"
   ]
  },
  {
   "attachments": {},
   "cell_type": "markdown",
   "metadata": {},
   "source": [
    "DF_EQUIPE"
   ]
  },
  {
   "cell_type": "code",
   "execution_count": 320,
   "metadata": {},
   "outputs": [],
   "source": [
    "# mapeamento dos valores de de_indicador para nm_indicador\n",
    "map_equipe = {'Considerado apenas (eSF e eAP) válidas para o componente de desempenho': 'validas',\n",
    "              'Considerado apenas equipes (eSF e eAP) homologadas': 'homologadas'}"
   ]
  },
  {
   "cell_type": "code",
   "execution_count": 321,
   "metadata": {},
   "outputs": [],
   "source": [
    "df_equipe =  df_final[['sk_equipe','Equipe']].drop_duplicates().reset_index(drop=True)\n",
    "df_equipe = df_equipe.rename(columns={'Equipe': 'de_equipe'})\n",
    "df_equipe['nm_equipe'] = df_equipe['de_equipe'].apply(lambda x: map_equipe[x])\n",
    "df_equipe = df_equipe.reindex(columns=['sk_equipe', 'nm_equipe', 'de_equipe'])"
   ]
  },
  {
   "cell_type": "code",
   "execution_count": 335,
   "metadata": {},
   "outputs": [
    {
     "data": {
      "text/html": [
       "<div>\n",
       "<style scoped>\n",
       "    .dataframe tbody tr th:only-of-type {\n",
       "        vertical-align: middle;\n",
       "    }\n",
       "\n",
       "    .dataframe tbody tr th {\n",
       "        vertical-align: top;\n",
       "    }\n",
       "\n",
       "    .dataframe thead th {\n",
       "        text-align: right;\n",
       "    }\n",
       "</style>\n",
       "<table border=\"1\" class=\"dataframe\">\n",
       "  <thead>\n",
       "    <tr style=\"text-align: right;\">\n",
       "      <th></th>\n",
       "      <th>sk_equipe</th>\n",
       "      <th>nm_equipe</th>\n",
       "      <th>de_equipe</th>\n",
       "    </tr>\n",
       "  </thead>\n",
       "  <tbody>\n",
       "    <tr>\n",
       "      <th>0</th>\n",
       "      <td>1</td>\n",
       "      <td>validas</td>\n",
       "      <td>Considerado apenas (eSF e eAP) válidas para o ...</td>\n",
       "    </tr>\n",
       "    <tr>\n",
       "      <th>1</th>\n",
       "      <td>2</td>\n",
       "      <td>homologadas</td>\n",
       "      <td>Considerado apenas equipes (eSF e eAP) homolog...</td>\n",
       "    </tr>\n",
       "  </tbody>\n",
       "</table>\n",
       "</div>"
      ],
      "text/plain": [
       "   sk_equipe    nm_equipe                                          de_equipe\n",
       "0          1      validas  Considerado apenas (eSF e eAP) válidas para o ...\n",
       "1          2  homologadas  Considerado apenas equipes (eSF e eAP) homolog..."
      ]
     },
     "execution_count": 335,
     "metadata": {},
     "output_type": "execute_result"
    }
   ],
   "source": [
    "df_equipe.head()"
   ]
  },
  {
   "attachments": {},
   "cell_type": "markdown",
   "metadata": {},
   "source": [
    "DF_LOCALIDADE"
   ]
  },
  {
   "cell_type": "code",
   "execution_count": 325,
   "metadata": {},
   "outputs": [],
   "source": [
    "df_localidade = df_final[['sk_localidade', 'UF', 'Munícipio']].drop_duplicates().reset_index(drop=True)\n",
    "df_localidade = df_localidade.rename(columns={'UF': 'uf', 'Munícipio': 'municipio'})\n",
    "#df_localidade.set_index('sk_localidade', inplace=True, drop=False)"
   ]
  },
  {
   "cell_type": "code",
   "execution_count": 326,
   "metadata": {},
   "outputs": [
    {
     "data": {
      "text/html": [
       "<div>\n",
       "<style scoped>\n",
       "    .dataframe tbody tr th:only-of-type {\n",
       "        vertical-align: middle;\n",
       "    }\n",
       "\n",
       "    .dataframe tbody tr th {\n",
       "        vertical-align: top;\n",
       "    }\n",
       "\n",
       "    .dataframe thead th {\n",
       "        text-align: right;\n",
       "    }\n",
       "</style>\n",
       "<table border=\"1\" class=\"dataframe\">\n",
       "  <thead>\n",
       "    <tr style=\"text-align: right;\">\n",
       "      <th></th>\n",
       "      <th>sk_localidade</th>\n",
       "      <th>uf</th>\n",
       "      <th>municipio</th>\n",
       "    </tr>\n",
       "  </thead>\n",
       "  <tbody>\n",
       "    <tr>\n",
       "      <th>0</th>\n",
       "      <td>354700</td>\n",
       "      <td>SP</td>\n",
       "      <td>SANTA MARIA DA SERRA</td>\n",
       "    </tr>\n",
       "    <tr>\n",
       "      <th>1</th>\n",
       "      <td>316660</td>\n",
       "      <td>MG</td>\n",
       "      <td>SERRA DA SAUDADE</td>\n",
       "    </tr>\n",
       "    <tr>\n",
       "      <th>2</th>\n",
       "      <td>170270</td>\n",
       "      <td>TO</td>\n",
       "      <td>AURORA DO TOCANTINS</td>\n",
       "    </tr>\n",
       "    <tr>\n",
       "      <th>3</th>\n",
       "      <td>521940</td>\n",
       "      <td>GO</td>\n",
       "      <td>SANTA RITA DO ARAGUAIA</td>\n",
       "    </tr>\n",
       "    <tr>\n",
       "      <th>4</th>\n",
       "      <td>410670</td>\n",
       "      <td>PR</td>\n",
       "      <td>CRUZEIRO DO SUL</td>\n",
       "    </tr>\n",
       "  </tbody>\n",
       "</table>\n",
       "</div>"
      ],
      "text/plain": [
       "   sk_localidade  uf               municipio\n",
       "0         354700  SP    SANTA MARIA DA SERRA\n",
       "1         316660  MG        SERRA DA SAUDADE\n",
       "2         170270  TO     AURORA DO TOCANTINS\n",
       "3         521940  GO  SANTA RITA DO ARAGUAIA\n",
       "4         410670  PR         CRUZEIRO DO SUL"
      ]
     },
     "execution_count": 326,
     "metadata": {},
     "output_type": "execute_result"
    }
   ],
   "source": [
    "df_localidade.head()"
   ]
  },
  {
   "attachments": {},
   "cell_type": "markdown",
   "metadata": {},
   "source": [
    "DF_PERIODO"
   ]
  },
  {
   "cell_type": "code",
   "execution_count": 327,
   "metadata": {},
   "outputs": [],
   "source": [
    "df_periodo = df_final[['sk_periodo','Ano','Quadrimestre']].drop_duplicates().reset_index(drop=True)\n",
    "df_periodo = df_periodo.rename(columns={'Ano': 'ano', 'Quadrimestre': 'quadrimestre'})\n",
    "df_periodo = df_periodo.reindex(columns=['sk_periodo', 'ano', 'quadrimestre'])"
   ]
  },
  {
   "cell_type": "code",
   "execution_count": 328,
   "metadata": {},
   "outputs": [
    {
     "data": {
      "text/html": [
       "<div>\n",
       "<style scoped>\n",
       "    .dataframe tbody tr th:only-of-type {\n",
       "        vertical-align: middle;\n",
       "    }\n",
       "\n",
       "    .dataframe tbody tr th {\n",
       "        vertical-align: top;\n",
       "    }\n",
       "\n",
       "    .dataframe thead th {\n",
       "        text-align: right;\n",
       "    }\n",
       "</style>\n",
       "<table border=\"1\" class=\"dataframe\">\n",
       "  <thead>\n",
       "    <tr style=\"text-align: right;\">\n",
       "      <th></th>\n",
       "      <th>sk_periodo</th>\n",
       "      <th>ano</th>\n",
       "      <th>quadrimestre</th>\n",
       "    </tr>\n",
       "  </thead>\n",
       "  <tbody>\n",
       "    <tr>\n",
       "      <th>0</th>\n",
       "      <td>20221</td>\n",
       "      <td>2022</td>\n",
       "      <td>1</td>\n",
       "    </tr>\n",
       "    <tr>\n",
       "      <th>1</th>\n",
       "      <td>20222</td>\n",
       "      <td>2022</td>\n",
       "      <td>2</td>\n",
       "    </tr>\n",
       "    <tr>\n",
       "      <th>2</th>\n",
       "      <td>20223</td>\n",
       "      <td>2022</td>\n",
       "      <td>3</td>\n",
       "    </tr>\n",
       "  </tbody>\n",
       "</table>\n",
       "</div>"
      ],
      "text/plain": [
       "  sk_periodo   ano quadrimestre\n",
       "0      20221  2022            1\n",
       "1      20222  2022            2\n",
       "2      20223  2022            3"
      ]
     },
     "execution_count": 328,
     "metadata": {},
     "output_type": "execute_result"
    }
   ],
   "source": [
    "df_periodo.head()"
   ]
  },
  {
   "attachments": {},
   "cell_type": "markdown",
   "metadata": {},
   "source": [
    "FATO_DESEMPENHO"
   ]
  },
  {
   "cell_type": "code",
   "execution_count": null,
   "metadata": {},
   "outputs": [],
   "source": [
    "# sk_indicador integer NOT NULL,\n",
    "# sk_equipe integer NOT NULL,\n",
    "# sk_periodo integer NOT NULL,\n",
    "# sk_localidade integer NOT NULL,\n",
    "# numerador integer NOT NULL,\n",
    "# denominador_utilizado integer NOT NULL,\n",
    "# percentual_quadrimestre integer NOT NULL,\n",
    "# denominador_identificado integer NOT NULL,\n",
    "# denominador_estimado integer NOT NULL,\n",
    "# cadastro integer NOT NULL,\n",
    "# base_externa real NOT NULL,\n",
    "# percentual integer NOT NULL,\n",
    "# populacao integer NOT NULL,\n",
    "\n"
   ]
  },
  {
   "cell_type": "code",
   "execution_count": 332,
   "metadata": {},
   "outputs": [],
   "source": [
    "fato_sisab = df_final[[\n",
    "    'sk_indicador',\n",
    "    'sk_equipe',\n",
    "    'sk_periodo',\n",
    "    'sk_localidade',\n",
    "    'Numerador',\n",
    "    'Denominador Utilizado',\n",
    "    'Percentual Quadrimestre',\n",
    "    'Denominador Identificado',\n",
    "    'Denominador Estimado',\n",
    "    'Cadastro',\n",
    "    'Base Externa',\n",
    "    'Percentual',\n",
    "    'População'\n",
    "    ]]"
   ]
  },
  {
   "cell_type": "code",
   "execution_count": 333,
   "metadata": {},
   "outputs": [
    {
     "data": {
      "text/html": [
       "<div>\n",
       "<style scoped>\n",
       "    .dataframe tbody tr th:only-of-type {\n",
       "        vertical-align: middle;\n",
       "    }\n",
       "\n",
       "    .dataframe tbody tr th {\n",
       "        vertical-align: top;\n",
       "    }\n",
       "\n",
       "    .dataframe thead th {\n",
       "        text-align: right;\n",
       "    }\n",
       "</style>\n",
       "<table border=\"1\" class=\"dataframe\">\n",
       "  <thead>\n",
       "    <tr style=\"text-align: right;\">\n",
       "      <th></th>\n",
       "      <th>sk_indicador</th>\n",
       "      <th>sk_equipe</th>\n",
       "      <th>sk_periodo</th>\n",
       "      <th>sk_localidade</th>\n",
       "      <th>Numerador</th>\n",
       "      <th>Denominador Utilizado</th>\n",
       "      <th>Percentual Quadrimestre</th>\n",
       "      <th>Denominador Identificado</th>\n",
       "      <th>Denominador Estimado</th>\n",
       "      <th>Cadastro</th>\n",
       "      <th>Base Externa</th>\n",
       "      <th>Percentual</th>\n",
       "      <th>População</th>\n",
       "    </tr>\n",
       "  </thead>\n",
       "  <tbody>\n",
       "    <tr>\n",
       "      <th>0</th>\n",
       "      <td>1</td>\n",
       "      <td>1</td>\n",
       "      <td>20221</td>\n",
       "      <td>354700</td>\n",
       "      <td>0.0</td>\n",
       "      <td>0.0</td>\n",
       "      <td>0.0</td>\n",
       "      <td>0.0</td>\n",
       "      <td>0.0</td>\n",
       "      <td>0.0</td>\n",
       "      <td>18.0</td>\n",
       "      <td>0.0</td>\n",
       "      <td>6236.0</td>\n",
       "    </tr>\n",
       "    <tr>\n",
       "      <th>1</th>\n",
       "      <td>1</td>\n",
       "      <td>1</td>\n",
       "      <td>20221</td>\n",
       "      <td>316660</td>\n",
       "      <td>0.0</td>\n",
       "      <td>1.0</td>\n",
       "      <td>0.0</td>\n",
       "      <td>0.0</td>\n",
       "      <td>1.0</td>\n",
       "      <td>891.0</td>\n",
       "      <td>1.0</td>\n",
       "      <td>0.0</td>\n",
       "      <td>776.0</td>\n",
       "    </tr>\n",
       "    <tr>\n",
       "      <th>2</th>\n",
       "      <td>1</td>\n",
       "      <td>1</td>\n",
       "      <td>20221</td>\n",
       "      <td>170270</td>\n",
       "      <td>0.0</td>\n",
       "      <td>10.0</td>\n",
       "      <td>0.0</td>\n",
       "      <td>10.0</td>\n",
       "      <td>6.0</td>\n",
       "      <td>3471.0</td>\n",
       "      <td>6.0</td>\n",
       "      <td>167.0</td>\n",
       "      <td>3783.0</td>\n",
       "    </tr>\n",
       "    <tr>\n",
       "      <th>3</th>\n",
       "      <td>1</td>\n",
       "      <td>1</td>\n",
       "      <td>20221</td>\n",
       "      <td>521940</td>\n",
       "      <td>0.0</td>\n",
       "      <td>10.0</td>\n",
       "      <td>0.0</td>\n",
       "      <td>3.0</td>\n",
       "      <td>10.0</td>\n",
       "      <td>4575.0</td>\n",
       "      <td>20.0</td>\n",
       "      <td>30.0</td>\n",
       "      <td>8935.0</td>\n",
       "    </tr>\n",
       "    <tr>\n",
       "      <th>4</th>\n",
       "      <td>1</td>\n",
       "      <td>1</td>\n",
       "      <td>20221</td>\n",
       "      <td>410670</td>\n",
       "      <td>0.0</td>\n",
       "      <td>11.0</td>\n",
       "      <td>0.0</td>\n",
       "      <td>0.0</td>\n",
       "      <td>11.0</td>\n",
       "      <td>3163.0</td>\n",
       "      <td>15.0</td>\n",
       "      <td>0.0</td>\n",
       "      <td>4449.0</td>\n",
       "    </tr>\n",
       "  </tbody>\n",
       "</table>\n",
       "</div>"
      ],
      "text/plain": [
       "   sk_indicador  sk_equipe sk_periodo  sk_localidade  Numerador  \\\n",
       "0             1          1      20221         354700        0.0   \n",
       "1             1          1      20221         316660        0.0   \n",
       "2             1          1      20221         170270        0.0   \n",
       "3             1          1      20221         521940        0.0   \n",
       "4             1          1      20221         410670        0.0   \n",
       "\n",
       "   Denominador Utilizado  Percentual Quadrimestre  Denominador Identificado  \\\n",
       "0                    0.0                      0.0                       0.0   \n",
       "1                    1.0                      0.0                       0.0   \n",
       "2                   10.0                      0.0                      10.0   \n",
       "3                   10.0                      0.0                       3.0   \n",
       "4                   11.0                      0.0                       0.0   \n",
       "\n",
       "   Denominador Estimado  Cadastro  Base Externa  Percentual  População  \n",
       "0                   0.0       0.0          18.0         0.0     6236.0  \n",
       "1                   1.0     891.0           1.0         0.0      776.0  \n",
       "2                   6.0    3471.0           6.0       167.0     3783.0  \n",
       "3                  10.0    4575.0          20.0        30.0     8935.0  \n",
       "4                  11.0    3163.0          15.0         0.0     4449.0  "
      ]
     },
     "execution_count": 333,
     "metadata": {},
     "output_type": "execute_result"
    }
   ],
   "source": [
    "fato_sisab.head()"
   ]
  },
  {
   "cell_type": "code",
   "execution_count": null,
   "metadata": {},
   "outputs": [],
   "source": []
  }
 ],
 "metadata": {
  "kernelspec": {
   "display_name": "Python 3",
   "language": "python",
   "name": "python3"
  },
  "language_info": {
   "codemirror_mode": {
    "name": "ipython",
    "version": 3
   },
   "file_extension": ".py",
   "mimetype": "text/x-python",
   "name": "python",
   "nbconvert_exporter": "python",
   "pygments_lexer": "ipython3",
   "version": "3.10.6"
  },
  "orig_nbformat": 4
 },
 "nbformat": 4,
 "nbformat_minor": 2
}
